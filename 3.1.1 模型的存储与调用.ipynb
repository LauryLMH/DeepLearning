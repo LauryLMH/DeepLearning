{
 "cells": [
  {
   "cell_type": "markdown",
   "id": "ddedc79b",
   "metadata": {},
   "source": [
    "# 模型的存储与调用\n",
    "\n",
    "\n",
    "我们可以使用两种格式将整个模型保存到磁盘：TensorFlow SavedModel 格式和Keras H5格式。以下是TensorFlow对两种模型的官方介绍：\n",
    "\n",
    "+ SavedModel是更全面的保存格式，它可以保存模型架构、权重和调用函数的跟踪 Tensorflow 子计算图。这使 Keras 能够恢复内置层和自定义对象。TensorFlow Serving（服务器端部署模型）、TensorFlow Lite（移动端部署模型）以及 TensorFlow JS都会用到这一格式的模型文件。 \n",
    "\n",
    "+ HDF5 文件包含模型的架构、权重值和 compile() 信息。它是 SavedModel 的轻量化替代选择。"
   ]
  },
  {
   "cell_type": "markdown",
   "id": "8b6b9bfc",
   "metadata": {},
   "source": [
    "## 模型训练与测试\n"
   ]
  },
  {
   "cell_type": "code",
   "execution_count": 2,
   "id": "3431bfce",
   "metadata": {
    "scrolled": true
   },
   "outputs": [
    {
     "name": "stdout",
     "output_type": "stream",
     "text": [
      "Epoch 1/10\n",
      "3750/3750 [==============================] - 9s 2ms/step - loss: 2.2353 - sparse_categorical_accuracy: 0.8513 - val_loss: 0.5703 - val_sparse_categorical_accuracy: 0.8738\n",
      "Epoch 2/10\n",
      "3750/3750 [==============================] - 10s 3ms/step - loss: 0.3850 - sparse_categorical_accuracy: 0.9030 - val_loss: 0.3728 - val_sparse_categorical_accuracy: 0.9102\n",
      "Epoch 3/10\n",
      "3750/3750 [==============================] - 9s 2ms/step - loss: 0.3242 - sparse_categorical_accuracy: 0.9195 - val_loss: 0.3102 - val_sparse_categorical_accuracy: 0.9256\n",
      "Epoch 4/10\n",
      "3750/3750 [==============================] - 9s 3ms/step - loss: 0.2954 - sparse_categorical_accuracy: 0.9294 - val_loss: 0.2921 - val_sparse_categorical_accuracy: 0.9386\n",
      "Epoch 5/10\n",
      "3750/3750 [==============================] - 9s 2ms/step - loss: 0.2749 - sparse_categorical_accuracy: 0.9339 - val_loss: 0.3263 - val_sparse_categorical_accuracy: 0.9343\n",
      "Epoch 6/10\n",
      "3750/3750 [==============================] - 11s 3ms/step - loss: 0.2772 - sparse_categorical_accuracy: 0.9366 - val_loss: 0.4341 - val_sparse_categorical_accuracy: 0.9265\n",
      "Epoch 7/10\n",
      "3750/3750 [==============================] - 10s 3ms/step - loss: 0.2619 - sparse_categorical_accuracy: 0.9382 - val_loss: 0.3763 - val_sparse_categorical_accuracy: 0.9296\n",
      "Epoch 8/10\n",
      "3750/3750 [==============================] - 10s 3ms/step - loss: 0.2563 - sparse_categorical_accuracy: 0.9411 - val_loss: 0.3546 - val_sparse_categorical_accuracy: 0.9380\n",
      "Epoch 9/10\n",
      "3750/3750 [==============================] - 10s 3ms/step - loss: 0.2510 - sparse_categorical_accuracy: 0.9436 - val_loss: 0.3317 - val_sparse_categorical_accuracy: 0.9393\n",
      "Epoch 10/10\n",
      "3750/3750 [==============================] - 10s 3ms/step - loss: 0.2538 - sparse_categorical_accuracy: 0.9450 - val_loss: 0.3398 - val_sparse_categorical_accuracy: 0.9336\n"
     ]
    },
    {
     "data": {
      "text/plain": [
       "<keras.callbacks.History at 0x22748bf6ca0>"
      ]
     },
     "execution_count": 2,
     "metadata": {},
     "output_type": "execute_result"
    }
   ],
   "source": [
    "# 导入包\n",
    "import numpy as np\n",
    "import tensorflow as tf\n",
    "import matplotlib.pyplot as plt\n",
    "from tensorflow.keras.datasets import mnist\n",
    "# 加载数据\n",
    "(img_train, label_train), (img_test, label_test) = mnist.load_data()\n",
    "# 搭建模型\n",
    "model = tf.keras.models.Sequential()\n",
    "model.add(tf.keras.layers.Flatten())\n",
    "model.add(tf.keras.layers.Dense(units=128, activation='relu'))\n",
    "model.add(tf.keras.layers.Dense(units=10, activation='softmax'))\n",
    "# 编译模型\n",
    "model.compile(optimizer='adam',\n",
    "              loss=tf.keras.losses.SparseCategoricalCrossentropy(from_logits=False),\n",
    "              metrics=['sparse_categorical_accuracy'])\n",
    "# 训练模型\n",
    "model.fit(img_train, label_train, batch_size=16, epochs=10,\n",
    "          validation_data=(img_test,label_test), validation_freq=1)"
   ]
  },
  {
   "cell_type": "code",
   "execution_count": 3,
   "id": "1124475c",
   "metadata": {},
   "outputs": [],
   "source": [
    "# 定义模型测试函数\n",
    "def model_test(model, predict_index):\n",
    "    \"\"\"\n",
    "    可视化测试图片与预测标签。\n",
    "    model: 输入待测试的模型\n",
    "    predict_index: 测试集中的测试图片索引，范围0~9999\n",
    "    输出：None。\n",
    "    \"\"\"\n",
    "    result = model.predict(img_test[predict_index].reshape((1,28,28,1)))\n",
    "    result_index = np.argmax(result)\n",
    "    plt.figure()\n",
    "    plt.imshow(img_test[predict_index], cmap='gray')\n",
    "    plt.title(f'predict: {result_index}')\n",
    "    plt.show()"
   ]
  },
  {
   "cell_type": "code",
   "execution_count": 4,
   "id": "833fe702",
   "metadata": {},
   "outputs": [
    {
     "name": "stdout",
     "output_type": "stream",
     "text": [
      "1/1 [==============================] - 0s 182ms/step\n"
     ]
    },
    {
     "data": {
      "image/png": "[encoded data removed]",
      "text/plain": [
       "<Figure size 432x288 with 1 Axes>"
      ]
     },
     "metadata": {
      "needs_background": "light"
     },
     "output_type": "display_data"
    }
   ],
   "source": [
    "model_test(model, 9999)"
   ]
  },
  {
   "cell_type": "markdown",
   "id": "367bd82d",
   "metadata": {},
   "source": [
    "## 整体模型保存与加载"
   ]
  },
  {
   "cell_type": "markdown",
   "id": "3014d4c5",
   "metadata": {},
   "source": [
    "### 模型整体保存\n",
    "\n",
    "我们可以通过`model.save(\"模型名称\")`或者`tf.keras.models.save_model(\"模型名称\")`保存整个模型，这两个函数的输入参数是一致的。\n",
    "\n",
    "```python\n",
    "save(\n",
    "    filepath,\n",
    "    overwrite=True,\n",
    "    include_optimizer=True,\n",
    "    save_format=None,\n",
    "    signatures=None,\n",
    "    options=None,\n",
    "    save_traces=True\n",
    ")\n",
    "```\n",
    "+ `filepath`: 字符串。保存的模型文件名称或路径。\n",
    "+ `overwrite`: 布尔值，默认True。如果有现有同名文件，是否进行重写。\n",
    "+ `include_optimizer`: 布尔值，默认True。是否保存优化器的状态。\n",
    "+ `save_format`: 字符串，默认'tf'。'tf'或'h5'格式，代表Tensorflow SavedModel 或者 HDF5 文件。也可以通过将`.h5`作为后缀传入`filepath`保存`h5`格式模型文件。\n",
    "\n",
    "其他输入参数仅适用于Tensorflow SavedModel格式模型。"
   ]
  },
  {
   "cell_type": "markdown",
   "id": "40d0364f",
   "metadata": {},
   "source": [
    "#### SavedModel格式"
   ]
  },
  {
   "cell_type": "code",
   "execution_count": 5,
   "id": "a49e826b",
   "metadata": {},
   "outputs": [
    {
     "name": "stdout",
     "output_type": "stream",
     "text": [
      "INFO:tensorflow:Assets written to: model\\assets\n"
     ]
    }
   ],
   "source": [
    "model.save(\"model\")"
   ]
  },
  {
   "cell_type": "markdown",
   "id": "2b43e6ae",
   "metadata": {},
   "source": [
    "生成`model`文件夹 ，其中包含2个文件夹和2个文件：\n",
    "+ `assets`: 空文件夹\n",
    "+ `variables`: 储存权重\n",
    "+ `keras_metadata.pb`: 其他配置\n",
    "+ `saved_model.pb`: 储存模型架构和训练配置（包括优化器、损失和指标）"
   ]
  },
  {
   "cell_type": "markdown",
   "id": "ea4576d2",
   "metadata": {},
   "source": [
    "#### h5格式\n",
    "生成单个`.h5`文件。"
   ]
  },
  {
   "cell_type": "code",
   "execution_count": 6,
   "id": "25113854",
   "metadata": {},
   "outputs": [],
   "source": [
    "model.save(\"model.h5\")"
   ]
  },
  {
   "cell_type": "markdown",
   "id": "48ced6fc",
   "metadata": {},
   "source": [
    "### 模型整体加载\n",
    "```python\n",
    "tf.keras.models.load_model(\n",
    "    filepath, custom_objects=None, compile=True, options=None\n",
    ")\n",
    "```\n",
    "+ `filepath`: 字符串。保存的模型名称或路径。\n",
    "+ `custom_objects`: 自定义类或函数的字典映射字典。比如模型中用了自定义的损失函数等。\n",
    "+ `compile`: 布尔值，默认True。加载模型后是否进行编译。\n",
    "+ `options`: `tf.saved_model.LoadOptions`对象。"
   ]
  },
  {
   "cell_type": "markdown",
   "id": "8be91ed3",
   "metadata": {},
   "source": [
    "#### SavedModel格式"
   ]
  },
  {
   "cell_type": "markdown",
   "id": "19de3e76",
   "metadata": {},
   "source": [
    "模型加载"
   ]
  },
  {
   "cell_type": "code",
   "execution_count": 7,
   "id": "7f58a003",
   "metadata": {},
   "outputs": [],
   "source": [
    "loaded_model_1 = tf.keras.models.load_model('model')"
   ]
  },
  {
   "cell_type": "markdown",
   "id": "cc0a897e",
   "metadata": {},
   "source": [
    "模型使用"
   ]
  },
  {
   "cell_type": "code",
   "execution_count": 8,
   "id": "54cef87c",
   "metadata": {},
   "outputs": [
    {
     "name": "stdout",
     "output_type": "stream",
     "text": [
      "1/1 [==============================] - 0s 78ms/step\n"
     ]
    },
    {
     "data": {
      "image/png": "[encoded data removed]",
      "text/plain": [
       "<Figure size 432x288 with 1 Axes>"
      ]
     },
     "metadata": {
      "needs_background": "light"
     },
     "output_type": "display_data"
    }
   ],
   "source": [
    "model_test(loaded_model_1, 9999)"
   ]
  },
  {
   "cell_type": "markdown",
   "id": "4bfca9e3",
   "metadata": {},
   "source": [
    "#### h5格式"
   ]
  },
  {
   "cell_type": "markdown",
   "id": "8041d860",
   "metadata": {},
   "source": [
    "模型加载"
   ]
  },
  {
   "cell_type": "code",
   "execution_count": 9,
   "id": "b2b93633",
   "metadata": {},
   "outputs": [],
   "source": [
    "loaded_model_2 = tf.keras.models.load_model('model.h5')"
   ]
  },
  {
   "cell_type": "markdown",
   "id": "2bb8aee5",
   "metadata": {},
   "source": [
    "模型使用"
   ]
  },
  {
   "cell_type": "code",
   "execution_count": 10,
   "id": "ff9b00e5",
   "metadata": {},
   "outputs": [
    {
     "name": "stdout",
     "output_type": "stream",
     "text": [
      "1/1 [==============================] - 0s 75ms/step\n"
     ]
    },
    {
     "data": {
      "image/png": "[encoded data removed]",
      "text/plain": [
       "<Figure size 432x288 with 1 Axes>"
      ]
     },
     "metadata": {
      "needs_background": "light"
     },
     "output_type": "display_data"
    }
   ],
   "source": [
    "model_test(loaded_model_2, 9999)"
   ]
  },
  {
   "cell_type": "markdown",
   "id": "d2ad8750",
   "metadata": {},
   "source": [
    "## 权重保存与加载\n",
    "保存整个模型在模型架构复杂的时候可能会占用巨大的内存。比如一个完整的模型可能需要1G的空间，而其中模型参数只占了300MB。所以只保存模型的参数可能会变成一个更好的选择。"
   ]
  },
  {
   "cell_type": "markdown",
   "id": "51ef5353",
   "metadata": {},
   "source": [
    "### 模型权重保存\n",
    "```python\n",
    "save_weights(\n",
    "    filepath, overwrite=True, save_format=None, options=None\n",
    ")\n",
    "```\n",
    "+ `filepath`: 字符串。保存的模型文件名称或路径。\n",
    "+ `overwrite`: 布尔值，默认True。如果有现有同名文件，是否进行重写。\n",
    "+ `save_format`: 字符串，默认'tf'。'tf'或'h5'格式，代表Tensorflow SavedModel 或者 HDF5 文件。也可以通过将`.h5`作为后缀传入`filepath`保存`h5`格式模型文件。"
   ]
  },
  {
   "cell_type": "markdown",
   "id": "f87fc775",
   "metadata": {},
   "source": [
    "#### SavedModel格式"
   ]
  },
  {
   "cell_type": "code",
   "execution_count": 11,
   "id": "229d8c40",
   "metadata": {},
   "outputs": [],
   "source": [
    "model.save_weights('weights')"
   ]
  },
  {
   "cell_type": "markdown",
   "id": "0cbfe14f",
   "metadata": {},
   "source": [
    "生成3个文件：\n",
    "\n",
    "+ `checkpoint`\n",
    "+ `weights.data-00000-of-00001`\n",
    "+ `weights.index`"
   ]
  },
  {
   "cell_type": "markdown",
   "id": "ac2af379",
   "metadata": {},
   "source": [
    "#### h5格式\n",
    "生成单个`.h5`文件。"
   ]
  },
  {
   "cell_type": "code",
   "execution_count": 12,
   "id": "ec9de7bf",
   "metadata": {},
   "outputs": [],
   "source": [
    "model.save_weights('weights.h5')"
   ]
  },
  {
   "cell_type": "markdown",
   "id": "d3d51de6",
   "metadata": {},
   "source": [
    "### 模型权重加载\n",
    "```python\n",
    "load_weights(\n",
    "    filepath, by_name=False, skip_mismatch=False, options=None\n",
    ")\n",
    "```\n",
    "\n",
    "+ `filepath`: 字符串。保存的模型名称或路径。\n",
    "+ `by_name`: 布尔值，默认False。是按名称还是按拓扑顺序加载权重。TensorFlow 格式的权重文件仅支持拓扑加载。\n",
    "+ `skip_mismatch`: 布尔值，默认False。是否跳过权重数量不匹配或权重形状不匹配的层的加载（仅在by_name=True时有效）\n",
    "+ `options`: `tf.saved_model.LoadOptions`对象。"
   ]
  },
  {
   "cell_type": "markdown",
   "id": "95ce98d8",
   "metadata": {},
   "source": [
    "#### SavedModel格式"
   ]
  },
  {
   "cell_type": "markdown",
   "id": "09ff8c36",
   "metadata": {},
   "source": [
    "模型加载"
   ]
  },
  {
   "cell_type": "code",
   "execution_count": 13,
   "id": "38861225",
   "metadata": {},
   "outputs": [
    {
     "data": {
      "text/plain": [
       "<tensorflow.python.checkpoint.checkpoint.CheckpointLoadStatus at 0x2274f560df0>"
      ]
     },
     "execution_count": 13,
     "metadata": {},
     "output_type": "execute_result"
    }
   ],
   "source": [
    "# 构建模型结构\n",
    "loaded_model_3 = tf.keras.models.Sequential()\n",
    "loaded_model_3.add(tf.keras.layers.Flatten())\n",
    "loaded_model_3.add(tf.keras.layers.Dense(units=128, activation='relu'))\n",
    "loaded_model_3.add(tf.keras.layers.Dense(units=10, activation='softmax'))\n",
    "\n",
    "# 加载权重\n",
    "loaded_model_3.load_weights('weights')"
   ]
  },
  {
   "cell_type": "markdown",
   "id": "e5cf1f13",
   "metadata": {},
   "source": [
    "模型使用"
   ]
  },
  {
   "cell_type": "code",
   "execution_count": 14,
   "id": "515491bb",
   "metadata": {
    "scrolled": false
   },
   "outputs": [
    {
     "name": "stdout",
     "output_type": "stream",
     "text": [
      "1/1 [==============================] - 0s 123ms/step\n"
     ]
    },
    {
     "data": {
      "image/png": "[encoded data removed]",
      "text/plain": [
       "<Figure size 432x288 with 1 Axes>"
      ]
     },
     "metadata": {
      "needs_background": "light"
     },
     "output_type": "display_data"
    }
   ],
   "source": [
    "model_test(loaded_model_3, 9999)"
   ]
  },
  {
   "cell_type": "markdown",
   "id": "39d8358b",
   "metadata": {},
   "source": [
    "#### h5格式"
   ]
  },
  {
   "cell_type": "markdown",
   "id": "5949e70d",
   "metadata": {},
   "source": [
    "模型加载"
   ]
  },
  {
   "cell_type": "code",
   "execution_count": 15,
   "id": "a6362274",
   "metadata": {},
   "outputs": [],
   "source": [
    "# 构建模型结构\n",
    "loaded_model_4 = tf.keras.models.Sequential()\n",
    "loaded_model_4.add(tf.keras.layers.Flatten())\n",
    "loaded_model_4.add(tf.keras.layers.Dense(units=128, activation='relu'))\n",
    "loaded_model_4.add(tf.keras.layers.Dense(units=10, activation='softmax'))\n",
    "\n",
    "# 设置模型输入\n",
    "loaded_model_4.build(input_shape =(None,28,28,1))\n",
    "\n",
    "# 加载权重\n",
    "loaded_model_4.load_weights('weights.h5')"
   ]
  },
  {
   "cell_type": "markdown",
   "id": "18200a75",
   "metadata": {},
   "source": [
    "模型使用"
   ]
  },
  {
   "cell_type": "code",
   "execution_count": 16,
   "id": "5d3da343",
   "metadata": {},
   "outputs": [
    {
     "name": "stdout",
     "output_type": "stream",
     "text": [
      "WARNING:tensorflow:5 out of the last 5 calls to <function Model.make_predict_function.<locals>.predict_function at 0x000002274F744EE0> triggered tf.function retracing. Tracing is expensive and the excessive number of tracings could be due to (1) creating @tf.function repeatedly in a loop, (2) passing tensors with different shapes, (3) passing Python objects instead of tensors. For (1), please define your @tf.function outside of the loop. For (2), @tf.function has reduce_retracing=True option that can avoid unnecessary retracing. For (3), please refer to https://www.tensorflow.org/guide/function#controlling_retracing and https://www.tensorflow.org/api_docs/python/tf/function for  more details.\n",
      "1/1 [==============================] - 0s 93ms/step\n"
     ]
    },
    {
     "data": {
      "image/png": "[encoded data removed]",
      "text/plain": [
       "<Figure size 432x288 with 1 Axes>"
      ]
     },
     "metadata": {
      "needs_background": "light"
     },
     "output_type": "display_data"
    }
   ],
   "source": [
    "model_test(loaded_model_4, 9999)"
   ]
  }
 ],
 "metadata": {
  "kernelspec": {
   "display_name": "Python 3 (ipykernel)",
   "language": "python",
   "name": "python3"
  },
  "language_info": {
   "codemirror_mode": {
    "name": "ipython",
    "version": 3
   },
   "file_extension": ".py",
   "mimetype": "text/x-python",
   "name": "python",
   "nbconvert_exporter": "python",
   "pygments_lexer": "ipython3",
   "version": "3.8.12"
  },
  "toc": {
   "base_numbering": 1,
   "nav_menu": {},
   "number_sections": true,
   "sideBar": true,
   "skip_h1_title": false,
   "title_cell": "Table of Contents",
   "title_sidebar": "Contents",
   "toc_cell": false,
   "toc_position": {},
   "toc_section_display": true,
   "toc_window_display": false
  }
 },
 "nbformat": 4,
 "nbformat_minor": 5
}
