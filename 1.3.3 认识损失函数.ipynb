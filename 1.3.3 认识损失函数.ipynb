{
 "cells": [
  {
   "cell_type": "markdown",
   "id": "345fdf7e",
   "metadata": {},
   "source": [
    "# 认识损失函数"
   ]
  },
  {
   "cell_type": "code",
   "execution_count": 1,
   "id": "99a9f50a",
   "metadata": {},
   "outputs": [],
   "source": [
    "import numpy as np\n",
    "import tensorflow as tf"
   ]
  },
  {
   "cell_type": "markdown",
   "id": "9cf9386f",
   "metadata": {},
   "source": [
    "## 数值误差"
   ]
  },
  {
   "attachments": {},
   "cell_type": "markdown",
   "id": "d5c7cff5",
   "metadata": {},
   "source": [
    "### 均方误差损失MSE\n",
    "\n",
    "$$MSE = \\frac{1}{n}\\sum_{i=1}^n(y_{true} - y_{pred})^2 $$\n"
   ]
  },
  {
   "cell_type": "markdown",
   "id": "edfd0704",
   "metadata": {},
   "source": [
    "**从零实现MSE**"
   ]
  },
  {
   "cell_type": "code",
   "execution_count": 2,
   "id": "a8da6ac0",
   "metadata": {},
   "outputs": [],
   "source": [
    "def mse(y_true, y_pred):\n",
    "    squared_error = (y_true-y_pred)**2\n",
    "    sum_squared_error = np.sum(squared_error)\n",
    "    return sum_squared_error/len(y_true)"
   ]
  },
  {
   "cell_type": "code",
   "execution_count": 3,
   "id": "4078fd03",
   "metadata": {},
   "outputs": [
    {
     "name": "stdout",
     "output_type": "stream",
     "text": [
      "真实值与预测值的均方误差：0.10399999999999991\n"
     ]
    }
   ],
   "source": [
    "y_true = np.array([1,2,3,4,5])\n",
    "y_pred = np.array([1,2.4,3,4,4.4])\n",
    "print(f'真实值与预测值的均方误差：{mse(y_true, y_pred)}')"
   ]
  },
  {
   "cell_type": "markdown",
   "id": "5a3a8b9f",
   "metadata": {},
   "source": [
    "**TensorFlow实现MSE**"
   ]
  },
  {
   "cell_type": "code",
   "execution_count": 4,
   "id": "b8b71f5e",
   "metadata": {},
   "outputs": [
    {
     "name": "stdout",
     "output_type": "stream",
     "text": [
      "真实值与预测值的均方误差：0.10399999999999991\n"
     ]
    }
   ],
   "source": [
    "y_true = np.array([1,2,3,4,5])\n",
    "y_pred = np.array([1,2.4,3,4,4.4])\n",
    "mse = tf.keras.losses.MeanSquaredError()\n",
    "print(f'真实值与预测值的均方误差：{mse(y_true, y_pred).numpy()}')"
   ]
  },
  {
   "attachments": {},
   "cell_type": "markdown",
   "id": "59d13b26",
   "metadata": {},
   "source": [
    "### 平均绝对误差MAE\n",
    "\n",
    "$$MAE = \\frac{1}{n}\\sum_{i=1}^n|y_{true} - y_{pred}| $$\n"
   ]
  },
  {
   "cell_type": "markdown",
   "id": "13ab8be1",
   "metadata": {},
   "source": [
    "**从零实现MAE**"
   ]
  },
  {
   "cell_type": "code",
   "execution_count": 5,
   "id": "df924988",
   "metadata": {},
   "outputs": [],
   "source": [
    "def mae(y_truth, y_predict):\n",
    "    absolute_error = np.abs(y_truth-y_predict)\n",
    "    sum_absolute_error = np.sum(absolute_error)\n",
    "    return sum_absolute_error/len(y_truth)"
   ]
  },
  {
   "cell_type": "code",
   "execution_count": 6,
   "id": "14244fb1",
   "metadata": {},
   "outputs": [
    {
     "name": "stdout",
     "output_type": "stream",
     "text": [
      "真实值与预测值的平均绝对误差：0.1999999999999999\n"
     ]
    }
   ],
   "source": [
    "y_truth = np.array([1,2,3,4,5])\n",
    "y_predict = np.array([1,2.4,3,4,4.4])\n",
    "print(f'真实值与预测值的平均绝对误差：{mae(y_truth, y_predict)}')"
   ]
  },
  {
   "cell_type": "markdown",
   "id": "c66f6475",
   "metadata": {},
   "source": [
    "**TensorFlow实现MAE**"
   ]
  },
  {
   "cell_type": "code",
   "execution_count": 7,
   "id": "106667d2",
   "metadata": {},
   "outputs": [
    {
     "name": "stdout",
     "output_type": "stream",
     "text": [
      "真实值与预测值的平均绝对误差：0.1999999999999999\n"
     ]
    }
   ],
   "source": [
    "y_true = np.array([1,2,3,4,5])\n",
    "y_pred = np.array([1,2.4,3,4,4.4])\n",
    "mae = tf.keras.losses.MeanAbsoluteError()\n",
    "print(f'真实值与预测值的平均绝对误差：{mae(y_true, y_pred).numpy()}')"
   ]
  },
  {
   "cell_type": "markdown",
   "id": "a57973f7",
   "metadata": {},
   "source": [
    "## 分类误差"
   ]
  },
  {
   "cell_type": "markdown",
   "id": "41e55d63",
   "metadata": {},
   "source": [
    "### 交叉熵损失函数"
   ]
  },
  {
   "cell_type": "markdown",
   "id": "b839d258",
   "metadata": {},
   "source": [
    "#### 二分类交叉熵损失函数\n",
    "\n",
    "$$Loss = -(y_{true} \\log(y_{pred}) + (1-y_{true}) \\log(1-y_{pred})) $$"
   ]
  },
  {
   "cell_type": "markdown",
   "id": "16134039",
   "metadata": {},
   "source": [
    "**TensorFlow实现二分类交叉熵损失**"
   ]
  },
  {
   "cell_type": "code",
   "execution_count": 8,
   "id": "610fa3ab",
   "metadata": {},
   "outputs": [
    {
     "name": "stdout",
     "output_type": "stream",
     "text": [
      "真实值与预测值的二分类交叉熵损失：0.13480615615844727\n"
     ]
    }
   ],
   "source": [
    "y_true = [0, 1, 0, 0]\n",
    "# y_pred = [0.6, 0.3, 0.2, 0.8] # loss = 0.99\n",
    "y_pred = [0.1, 0.8, 0.1, 0.1] # loss=0.13 \n",
    "bc = tf.keras.losses.BinaryCrossentropy()\n",
    "print(f'真实值与预测值的二分类交叉熵损失：{bc(y_true, y_pred).numpy()}')"
   ]
  },
  {
   "attachments": {},
   "cell_type": "markdown",
   "id": "4937455f",
   "metadata": {},
   "source": [
    "#### 多分类交叉熵损失函数\n",
    "\n",
    "$$Loss = -\\sum_{i=1}^n y_{true}^i \\log(y_{pred}^i) + (1-y_{true}^i) \\log(1-y_{pred}^i) $$\n",
    "\n"
   ]
  },
  {
   "cell_type": "markdown",
   "id": "5842fc0f",
   "metadata": {},
   "source": [
    "**TensorFlow实现多分类交叉熵损失**"
   ]
  },
  {
   "cell_type": "code",
   "execution_count": 9,
   "id": "f141b13f",
   "metadata": {},
   "outputs": [
    {
     "name": "stdout",
     "output_type": "stream",
     "text": [
      "真实值与预测值的多分类交叉熵损失：1.1769392490386963\n"
     ]
    }
   ],
   "source": [
    "y_true = [[0, 1, 0], [0, 0, 1]]\n",
    "y_pred = [[0.05, 0.95, 0], [0.1, 0.8, 0.1]]\n",
    "cc = tf.keras.losses.CategoricalCrossentropy()\n",
    "\n",
    "print(f'真实值与预测值的多分类交叉熵损失：{cc(y_true, y_pred)}')"
   ]
  },
  {
   "cell_type": "markdown",
   "id": "6b3000fb",
   "metadata": {},
   "source": [
    "## 所有内置损失\n",
    "[tf.keras.loss:](https://tensorflow.google.cn/api_docs/python/tf/keras/losses)\n",
    "+ `BinaryCrossentropy`\n",
    "+ `BinaryFocalCrossentropy`\n",
    "+ `CategoricalCrossentropy`\n",
    "+ `CategoricalHinge`\n",
    "+ `CosineSimilarity`\n",
    "+ `Hinge`\n",
    "+ `Huber`\n",
    "+ `KLDivergence`\n",
    "+ `LogCosh`\n",
    "+ `Loss`\n",
    "+ `MeanAbsoluteError`\n",
    "+ `MeanAbsolutePercentageError`\n",
    "+ `MeanSquaredError`\n",
    "+ `MeanSquaredLogarithmicError`\n",
    "+ `Poisson`\n",
    "+ `Reduction`\n",
    "+ `SparseCategoricalCrossentropy`\n",
    "+ `SquaredHinge`"
   ]
  }
 ],
 "metadata": {
  "kernelspec": {
   "display_name": "Python 3 (ipykernel)",
   "language": "python",
   "name": "python3"
  },
  "language_info": {
   "codemirror_mode": {
    "name": "ipython",
    "version": 3
   },
   "file_extension": ".py",
   "mimetype": "text/x-python",
   "name": "python",
   "nbconvert_exporter": "python",
   "pygments_lexer": "ipython3",
   "version": "3.8.12"
  },
  "toc": {
   "base_numbering": 1,
   "nav_menu": {},
   "number_sections": true,
   "sideBar": true,
   "skip_h1_title": false,
   "title_cell": "Table of Contents",
   "title_sidebar": "Contents",
   "toc_cell": false,
   "toc_position": {},
   "toc_section_display": true,
   "toc_window_display": false
  }
 },
 "nbformat": 4,
 "nbformat_minor": 5
}
