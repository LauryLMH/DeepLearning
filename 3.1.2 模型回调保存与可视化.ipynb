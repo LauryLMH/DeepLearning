{
 "cells": [
  {
   "cell_type": "markdown",
   "id": "1b7294f4",
   "metadata": {},
   "source": [
    "# 模型回调保存与可视化"
   ]
  },
  {
   "cell_type": "markdown",
   "id": "bc87efd4",
   "metadata": {},
   "source": [
    "Keras 中已经提供多个内置回调，例如：\n",
    "+ `ModelCheckpoint`：定期保存模型。\n",
    "+ `EarlyStopping`：当训练不再改善验证指标时，停止训练。\n",
    "+ `TensorBoard`：定期编写可在 TensorBoard 中可视化的模型日志。\n",
    "+ `CSVLogger`：将损失和指标数据流式传输到 CSV 文件。\n",
    "+ 等等\n",
    "\n",
    "更多回调请参阅[TensorFlow回调列表](https://tensorflow.google.cn/api_docs/python/tf/keras/callbacks/)。"
   ]
  },
  {
   "cell_type": "code",
   "execution_count": 2,
   "id": "03f87c7d",
   "metadata": {},
   "outputs": [],
   "source": [
    "# 导入包\n",
    "import numpy as np\n",
    "import tensorflow as tf\n",
    "import matplotlib.pyplot as plt\n",
    "from tensorflow.keras.datasets import mnist\n",
    "# 加载数据\n",
    "(img_train, label_train), (img_test, label_test) = mnist.load_data()\n",
    "# 搭建模型\n",
    "model = tf.keras.models.Sequential()\n",
    "model.add(tf.keras.layers.Flatten())\n",
    "model.add(tf.keras.layers.Dense(units=128, activation='relu'))\n",
    "model.add(tf.keras.layers.Dense(units=10, activation='softmax'))\n",
    "# 编译模型\n",
    "model.compile(optimizer='adam',\n",
    "              loss=tf.keras.losses.SparseCategoricalCrossentropy(from_logits=False),\n",
    "              metrics=['sparse_categorical_accuracy'])"
   ]
  },
  {
   "cell_type": "markdown",
   "id": "5efed9b1",
   "metadata": {},
   "source": [
    "## ModelCheckpoint"
   ]
  },
  {
   "cell_type": "markdown",
   "id": "75a6975a",
   "metadata": {},
   "source": [
    "```python\n",
    "tf.keras.callbacks.ModelCheckpoint(\n",
    "    filepath, \n",
    "    monitor: str = 'val_loss', \n",
    "    verbose: int = 0, \n",
    "    save_best_only: bool = False, \n",
    "    save_weights_only: bool = False, \n",
    "    mode: str = 'auto', \n",
    "    save_freq='epoch', \n",
    "    options=None, \n",
    "    initial_value_threshold=None,\n",
    "    **kwargs \n",
    "```\n",
    "+ `filepath`: 保存路径\n",
    "+ `monitor`: 监督指标名称\n",
    "+ `verbose`: 输出详细程度，0为静默，1为详细\n",
    "+ `save_best_only`: 是否只保存为好的模型\n",
    "+ `save_weights_only`: 是否只保存权重信息\n",
    "+ `mode`: 指标什么情况下保存模型：'max', 'min', 'auto'\n",
    "+ `save_freq`: 保存频率\n",
    "+ `options`: tf.train.CheckpointOptions 对象\n",
    "+ `initial_value_threshold`: 指标初始阈值\n",
    "+ `**kwargs`: 其他参数\n"
   ]
  },
  {
   "cell_type": "code",
   "execution_count": 4,
   "id": "a9cea0ab",
   "metadata": {},
   "outputs": [],
   "source": [
    "# 设置回调列表\n",
    "callbacks = [\n",
    "    tf.keras.callbacks.ModelCheckpoint(\n",
    "        filepath=\"./callbacks/{epoch}_{sparse_categorical_accuracy}\",\n",
    "        save_best_only=True,  # 只有当`val_loss`指标优化才保存模型\n",
    "        monitor=\"sparse_categorical_accuracy\",\n",
    "        verbose=1,\n",
    "    )\n",
    "]\n"
   ]
  },
  {
   "cell_type": "code",
   "execution_count": 5,
   "id": "9a83f62d",
   "metadata": {},
   "outputs": [
    {
     "name": "stdout",
     "output_type": "stream",
     "text": [
      "Epoch 1/10\n",
      "3744/3750 [============================>.] - ETA: 0s - loss: 2.2848 - sparse_categorical_accuracy: 0.8537\n",
      "Epoch 1: sparse_categorical_accuracy improved from -inf to 0.85367, saving model to ./callbacks\\1_0.8536666631698608\n",
      "INFO:tensorflow:Assets written to: ./callbacks\\1_0.8536666631698608\\assets\n",
      "3750/3750 [==============================] - 18s 5ms/step - loss: 2.2819 - sparse_categorical_accuracy: 0.8537 - val_loss: 0.4290 - val_sparse_categorical_accuracy: 0.8945\n",
      "Epoch 2/10\n",
      "3738/3750 [============================>.] - ETA: 0s - loss: 0.3746 - sparse_categorical_accuracy: 0.9083\n",
      "Epoch 2: sparse_categorical_accuracy improved from 0.85367 to 0.90817, saving model to ./callbacks\\2_0.9081666469573975\n",
      "INFO:tensorflow:Assets written to: ./callbacks\\2_0.9081666469573975\\assets\n",
      "3750/3750 [==============================] - 16s 4ms/step - loss: 0.3750 - sparse_categorical_accuracy: 0.9082 - val_loss: 0.3696 - val_sparse_categorical_accuracy: 0.9174\n",
      "Epoch 3/10\n",
      "3741/3750 [============================>.] - ETA: 0s - loss: 0.3201 - sparse_categorical_accuracy: 0.9227\n",
      "Epoch 3: sparse_categorical_accuracy improved from 0.90817 to 0.92267, saving model to ./callbacks\\3_0.9226666688919067\n",
      "INFO:tensorflow:Assets written to: ./callbacks\\3_0.9226666688919067\\assets\n",
      "3750/3750 [==============================] - 16s 4ms/step - loss: 0.3199 - sparse_categorical_accuracy: 0.9227 - val_loss: 0.3828 - val_sparse_categorical_accuracy: 0.9184\n",
      "Epoch 4/10\n",
      "3737/3750 [============================>.] - ETA: 0s - loss: 0.2889 - sparse_categorical_accuracy: 0.9274\n",
      "Epoch 4: sparse_categorical_accuracy improved from 0.92267 to 0.92738, saving model to ./callbacks\\4_0.927383303642273\n",
      "INFO:tensorflow:Assets written to: ./callbacks\\4_0.927383303642273\\assets\n",
      "3750/3750 [==============================] - 17s 4ms/step - loss: 0.2891 - sparse_categorical_accuracy: 0.9274 - val_loss: 0.3042 - val_sparse_categorical_accuracy: 0.9299\n",
      "Epoch 5/10\n",
      "3745/3750 [============================>.] - ETA: 0s - loss: 0.2799 - sparse_categorical_accuracy: 0.9314\n",
      "Epoch 5: sparse_categorical_accuracy improved from 0.92738 to 0.93142, saving model to ./callbacks\\5_0.9314166903495789\n",
      "INFO:tensorflow:Assets written to: ./callbacks\\5_0.9314166903495789\\assets\n",
      "3750/3750 [==============================] - 15s 4ms/step - loss: 0.2799 - sparse_categorical_accuracy: 0.9314 - val_loss: 0.3858 - val_sparse_categorical_accuracy: 0.9198\n",
      "Epoch 6/10\n",
      "3732/3750 [============================>.] - ETA: 0s - loss: 0.2733 - sparse_categorical_accuracy: 0.9343\n",
      "Epoch 6: sparse_categorical_accuracy improved from 0.93142 to 0.93430, saving model to ./callbacks\\6_0.9343000054359436\n",
      "INFO:tensorflow:Assets written to: ./callbacks\\6_0.9343000054359436\\assets\n",
      "3750/3750 [==============================] - 15s 4ms/step - loss: 0.2734 - sparse_categorical_accuracy: 0.9343 - val_loss: 0.3121 - val_sparse_categorical_accuracy: 0.9357\n",
      "Epoch 7/10\n",
      "3747/3750 [============================>.] - ETA: 0s - loss: 0.2652 - sparse_categorical_accuracy: 0.9366\n",
      "Epoch 7: sparse_categorical_accuracy improved from 0.93430 to 0.93662, saving model to ./callbacks\\7_0.9366166591644287\n",
      "INFO:tensorflow:Assets written to: ./callbacks\\7_0.9366166591644287\\assets\n",
      "3750/3750 [==============================] - 13s 3ms/step - loss: 0.2655 - sparse_categorical_accuracy: 0.9366 - val_loss: 0.3765 - val_sparse_categorical_accuracy: 0.9297\n",
      "Epoch 8/10\n",
      "3739/3750 [============================>.] - ETA: 0s - loss: 0.2621 - sparse_categorical_accuracy: 0.9381\n",
      "Epoch 8: sparse_categorical_accuracy improved from 0.93662 to 0.93785, saving model to ./callbacks\\8_0.9378499984741211\n",
      "INFO:tensorflow:Assets written to: ./callbacks\\8_0.9378499984741211\\assets\n",
      "3750/3750 [==============================] - 13s 3ms/step - loss: 0.2626 - sparse_categorical_accuracy: 0.9378 - val_loss: 0.3299 - val_sparse_categorical_accuracy: 0.9307\n",
      "Epoch 9/10\n",
      "3732/3750 [============================>.] - ETA: 0s - loss: 0.2616 - sparse_categorical_accuracy: 0.9374\n",
      "Epoch 9: sparse_categorical_accuracy did not improve from 0.93785\n",
      "3750/3750 [==============================] - 11s 3ms/step - loss: 0.2619 - sparse_categorical_accuracy: 0.9374 - val_loss: 0.3192 - val_sparse_categorical_accuracy: 0.9298\n",
      "Epoch 10/10\n",
      "3734/3750 [============================>.] - ETA: 0s - loss: 0.2471 - sparse_categorical_accuracy: 0.9407\n",
      "Epoch 10: sparse_categorical_accuracy improved from 0.93785 to 0.94068, saving model to ./callbacks\\10_0.9406833052635193\n",
      "INFO:tensorflow:Assets written to: ./callbacks\\10_0.9406833052635193\\assets\n",
      "3750/3750 [==============================] - 12s 3ms/step - loss: 0.2470 - sparse_categorical_accuracy: 0.9407 - val_loss: 0.3581 - val_sparse_categorical_accuracy: 0.9321\n"
     ]
    },
    {
     "data": {
      "text/plain": [
       "<keras.callbacks.History at 0x1c790a9ca90>"
      ]
     },
     "execution_count": 5,
     "metadata": {},
     "output_type": "execute_result"
    }
   ],
   "source": [
    "# 训练模型\n",
    "model.fit(img_train, label_train, batch_size=16, epochs=10,\n",
    "          validation_data=(img_test,label_test), validation_freq=1,\n",
    "          callbacks=callbacks,)"
   ]
  },
  {
   "cell_type": "markdown",
   "id": "0672b629",
   "metadata": {},
   "source": [
    "通过这种方式，我们可以在训练过程中一直保存最好的模型。下次想使用就可以直接从`callbacks`文件夹里面读取模型，而不用重新训练。"
   ]
  },
  {
   "cell_type": "markdown",
   "id": "18d50c72",
   "metadata": {},
   "source": [
    "## EarlyStopping"
   ]
  },
  {
   "cell_type": "code",
   "execution_count": null,
   "id": "d957be1c",
   "metadata": {},
   "outputs": [],
   "source": []
  },
  {
   "cell_type": "code",
   "execution_count": null,
   "id": "465f73a7",
   "metadata": {},
   "outputs": [],
   "source": []
  },
  {
   "cell_type": "markdown",
   "id": "63b7defc",
   "metadata": {},
   "source": [
    "## TensorBoard\n",
    "```python\n",
    "tf.keras.callbacks.TensorBoard(\n",
    "    log_dir='logs',\n",
    "    histogram_freq=0,\n",
    "    write_graph=True,\n",
    "    write_images=False,\n",
    "    write_steps_per_second=False,\n",
    "    update_freq='epoch',\n",
    "    profile_batch=0,\n",
    "    embeddings_freq=0,\n",
    "    embeddings_metadata=None,\n",
    "    **kwargs\n",
    ")\n",
    "```\n",
    "\n",
    "+ `log_dir`: \n",
    "+ `histogram_freq`: \n",
    "+ `write_graph`: \n",
    "+ `write_images`: \n",
    "+ `write_steps_per_second`: \n",
    "+ `update_freq`: \n",
    "+ `profile_batch`: \n",
    "+ `embeddings_freq`: \n",
    "+ `embeddings_metadata`: \n",
    "+ `**kwargs`: 其他参数"
   ]
  },
  {
   "cell_type": "code",
   "execution_count": null,
   "id": "1b66fb71",
   "metadata": {},
   "outputs": [],
   "source": []
  },
  {
   "cell_type": "code",
   "execution_count": null,
   "id": "95ab9611",
   "metadata": {},
   "outputs": [],
   "source": []
  },
  {
   "cell_type": "code",
   "execution_count": null,
   "id": "7de21d4e",
   "metadata": {},
   "outputs": [],
   "source": []
  }
 ],
 "metadata": {
  "kernelspec": {
   "display_name": "Python 3 (ipykernel)",
   "language": "python",
   "name": "python3"
  },
  "language_info": {
   "codemirror_mode": {
    "name": "ipython",
    "version": 3
   },
   "file_extension": ".py",
   "mimetype": "text/x-python",
   "name": "python",
   "nbconvert_exporter": "python",
   "pygments_lexer": "ipython3",
   "version": "3.8.12"
  },
  "toc": {
   "base_numbering": 1,
   "nav_menu": {},
   "number_sections": true,
   "sideBar": true,
   "skip_h1_title": false,
   "title_cell": "Table of Contents",
   "title_sidebar": "Contents",
   "toc_cell": false,
   "toc_position": {},
   "toc_section_display": true,
   "toc_window_display": false
  }
 },
 "nbformat": 4,
 "nbformat_minor": 5
}
