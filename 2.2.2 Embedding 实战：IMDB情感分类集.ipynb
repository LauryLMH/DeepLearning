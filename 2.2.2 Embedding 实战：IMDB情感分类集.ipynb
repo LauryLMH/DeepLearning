{
 "cells": [
  {
   "cell_type": "markdown",
   "id": "ba64b441",
   "metadata": {},
   "source": [
    "# 数据集加载"
   ]
  },
  {
   "cell_type": "code",
   "execution_count": 1,
   "id": "f1fa6a1e",
   "metadata": {},
   "outputs": [],
   "source": [
    "import tensorflow as tf"
   ]
  },
  {
   "cell_type": "code",
   "execution_count": 2,
   "id": "a90ac687",
   "metadata": {},
   "outputs": [
    {
     "name": "stdout",
     "output_type": "stream",
     "text": [
      "(25000,)\n",
      "(25000,)\n"
     ]
    }
   ],
   "source": [
    "# 加载IMDB数据集，数据采用数字编码，一个数字代表一个单词\n",
    "(x_train, y_train), (x_test, y_test) = tf.keras.datasets.imdb.load_data(num_words=10000)\n",
    "print(x_train.shape)\n",
    "print(x_test.shape)"
   ]
  },
  {
   "cell_type": "code",
   "execution_count": 3,
   "id": "084cba80",
   "metadata": {},
   "outputs": [],
   "source": [
    "# 设置最多只读影评前500个单词\n",
    "x_train = tf.keras.preprocessing.sequence.pad_sequences(x_train, maxlen=500, value = 0) # 0.0代表通过<PAD>填充\n",
    "x_test = tf.keras.preprocessing.sequence.pad_sequences(x_test, maxlen=500, value = 0) "
   ]
  },
  {
   "cell_type": "markdown",
   "id": "369cfb2c",
   "metadata": {},
   "source": [
    "# 模型搭建与训练"
   ]
  },
  {
   "cell_type": "code",
   "execution_count": 4,
   "id": "03a97ef2",
   "metadata": {},
   "outputs": [
    {
     "name": "stdout",
     "output_type": "stream",
     "text": [
      "Model: \"sequential\"\n",
      "_________________________________________________________________\n",
      " Layer (type)                Output Shape              Param #   \n",
      "=================================================================\n",
      " embedding (Embedding)       (None, 500, 15)           150000    \n",
      "                                                                 \n",
      " dropout (Dropout)           (None, 500, 15)           0         \n",
      "                                                                 \n",
      " conv1d (Conv1D)             (None, 500, 32)           992       \n",
      "                                                                 \n",
      " dropout_1 (Dropout)         (None, 500, 32)           0         \n",
      "                                                                 \n",
      " max_pooling1d (MaxPooling1D  (None, 250, 32)          0         \n",
      " )                                                               \n",
      "                                                                 \n",
      " flatten (Flatten)           (None, 8000)              0         \n",
      "                                                                 \n",
      " dropout_2 (Dropout)         (None, 8000)              0         \n",
      "                                                                 \n",
      " dense (Dense)               (None, 1)                 8001      \n",
      "                                                                 \n",
      "=================================================================\n",
      "Total params: 158,993\n",
      "Trainable params: 158,993\n",
      "Non-trainable params: 0\n",
      "_________________________________________________________________\n"
     ]
    }
   ],
   "source": [
    "from tensorflow.keras.layers import *\n",
    "from tensorflow.keras.models import Sequential\n",
    "\n",
    "# max_words = 10000 # 所有文本只考虑出现频率最多的 10000 个单词。\n",
    "model = Sequential()\n",
    "model.add(Embedding(10000, 15, input_length=500))\n",
    "model.add(Dropout(0.50))\n",
    "model.add(Conv1D(filters=32, kernel_size=2, padding='same', activation='relu'))\n",
    "model.add(Dropout(0.50))\n",
    "model.add(MaxPooling1D(pool_size=2))\n",
    "model.add(Flatten())\n",
    "model.add(Dropout(0.50))\n",
    "model.add(Dense(1, activation='sigmoid'))\n",
    "model.summary()\n"
   ]
  },
  {
   "cell_type": "code",
   "execution_count": 5,
   "id": "79f86613",
   "metadata": {},
   "outputs": [],
   "source": [
    "model.compile(optimizer='adam',loss='binary_crossentropy',metrics=['acc'])"
   ]
  },
  {
   "cell_type": "code",
   "execution_count": 6,
   "id": "1a8d91e0",
   "metadata": {},
   "outputs": [
    {
     "name": "stdout",
     "output_type": "stream",
     "text": [
      "Epoch 1/5\n",
      "157/157 [==============================] - 12s 72ms/step - loss: 0.6922 - acc: 0.5210 - val_loss: 0.6845 - val_acc: 0.6052\n",
      "Epoch 2/5\n",
      "157/157 [==============================] - 11s 71ms/step - loss: 0.5277 - acc: 0.7459 - val_loss: 0.3546 - val_acc: 0.8662\n",
      "Epoch 3/5\n",
      "157/157 [==============================] - 12s 78ms/step - loss: 0.2972 - acc: 0.8768 - val_loss: 0.2876 - val_acc: 0.8864\n",
      "Epoch 4/5\n",
      "157/157 [==============================] - 12s 80ms/step - loss: 0.2285 - acc: 0.9080 - val_loss: 0.2696 - val_acc: 0.8900\n",
      "Epoch 5/5\n",
      "157/157 [==============================] - 12s 77ms/step - loss: 0.1986 - acc: 0.9208 - val_loss: 0.2641 - val_acc: 0.8930\n"
     ]
    }
   ],
   "source": [
    "history = model.fit(x_train, y_train, epochs=5, batch_size=128, validation_split=0.2)"
   ]
  },
  {
   "cell_type": "code",
   "execution_count": 7,
   "id": "5b25361a",
   "metadata": {},
   "outputs": [
    {
     "data": {
      "image/png": "[encoded data removed]",
      "text/plain": [
       "<Figure size 432x288 with 1 Axes>"
      ]
     },
     "metadata": {
      "needs_background": "light"
     },
     "output_type": "display_data"
    },
    {
     "data": {
      "image/png": "[encoded data removed]",
      "text/plain": [
       "<Figure size 432x288 with 1 Axes>"
      ]
     },
     "metadata": {
      "needs_background": "light"
     },
     "output_type": "display_data"
    }
   ],
   "source": [
    "import matplotlib.pyplot as plt\n",
    "\n",
    "# Validation loss\n",
    "plt.plot(history.history['val_loss'])\n",
    "plt.title('Hist Validation Loss')\n",
    "plt.ylabel('Loss')\n",
    "plt.xlabel('#epoch')\n",
    "plt.grid()\n",
    "plt.show()\n",
    "\n",
    "# Accuracy\n",
    "plt.plot(history.history['val_acc'])\n",
    "plt.title('Hist Accuracy Loss')\n",
    "plt.ylabel('Acc(%)')\n",
    "plt.xlabel('#epoch')\n",
    "plt.grid()\n",
    "plt.show()"
   ]
  },
  {
   "cell_type": "code",
   "execution_count": 8,
   "id": "6b70bd71",
   "metadata": {
    "scrolled": true
   },
   "outputs": [
    {
     "name": "stdout",
     "output_type": "stream",
     "text": [
      "测试结果\n",
      "损失：0.27731624245643616；\n",
      "正确率：88.35600018501282%\n"
     ]
    }
   ],
   "source": [
    "test_results = model.evaluate(x_test, y_test, verbose=False)\n",
    "print(f'测试结果\\n损失：{test_results[0]}；\\n正确率：{100*test_results[1]}%')"
   ]
  },
  {
   "cell_type": "markdown",
   "id": "ece2d1b2",
   "metadata": {},
   "source": [
    "# 测试"
   ]
  },
  {
   "cell_type": "markdown",
   "id": "6a18a4b4",
   "metadata": {},
   "source": [
    "获取数字与单词之间的映射"
   ]
  },
  {
   "cell_type": "code",
   "execution_count": 9,
   "id": "db8ef467",
   "metadata": {},
   "outputs": [],
   "source": [
    "import numpy as np\n",
    "# Obtain 3 texts\n",
    "for i in np.random.randint(0, len(x_train), 3):\n",
    "    INDEX_FROM=3   # word index offset\n",
    "    # 读取映射字典\n",
    "    word_to_id = tf.keras.datasets.imdb.get_word_index()\n",
    "    # 添加offset\n",
    "    word_to_id = {k:(v+INDEX_FROM) for k,v in word_to_id.items()}\n",
    "    word_to_id[\"<PAD>\"] = 0\n",
    "    word_to_id[\"<START>\"] = 1\n",
    "    word_to_id[\"<UNK>\"] = 2\n",
    "    word_to_id[\"<UNUSED>\"] = 3\n",
    "    # 反向映射\n",
    "    id_to_word = {value:key for key,value in word_to_id.items()}\n"
   ]
  },
  {
   "cell_type": "markdown",
   "id": "44fd2dc3",
   "metadata": {},
   "source": [
    "从测试集选一个文本做测试"
   ]
  },
  {
   "cell_type": "code",
   "execution_count": 10,
   "id": "98732a31",
   "metadata": {},
   "outputs": [
    {
     "name": "stdout",
     "output_type": "stream",
     "text": [
      "预测文本：inspired by hitchcock's strangers on a train concept of two men <UNK> murders in exchange for getting rid of the two people messing up their lives throw <UNK> from the train is an original and very inventive comedy take on the idea it's a credit to danny <UNK> that he both wrote and starred in this minor comedy gem br br anne <UNK> is the mother who <UNK> the film's title and it's understandable why she gets under the skin of danny <UNK> with her sharp tongue and relentlessly putting him down for any minor <UNK> billy crystal is the writer who's wife has stolen his book idea and is now being <UNK> as a great new author even appearing on the oprah show to in <UNK> he should be enjoying thus <UNK> gets the idea of <UNK> murders to rid themselves of these <UNK> factors br br of course everything and anything can happen when writer carl <UNK> lets his imagination <UNK> with <UNK> ideas for how the plot develops and it's amusing all the way through providing plenty of laughs and chuckles along the way as well as a good deal of suspense br br for <UNK> of black comedy this one is guaranteed to please \n",
      "标签结果：1\n",
      "1/1 [==============================] - 0s 137ms/step\n",
      "预测结果：1\n"
     ]
    }
   ],
   "source": [
    "# 选择一个测试索引\n",
    "index = 10\n",
    "# 将数值数据转为文本\n",
    "comment = ''\n",
    "start = 500\n",
    "for ind,i in enumerate(x_test[index]):\n",
    "    if i == 1:\n",
    "        start = ind\n",
    "    if ind > start:\n",
    "        comment += id_to_word[i] \n",
    "        comment += ' '\n",
    "print(f'预测文本：{comment}')\n",
    "print(f'标签结果：{y_test[index]}') # 0为负面 1为正面\n",
    "\n",
    "# 进行预测\n",
    "result = model.predict(np.array([x_test[index]]))\n",
    "print(f'预测结果：{int(np.round(result[0][0]))}')"
   ]
  }
 ],
 "metadata": {
  "kernelspec": {
   "display_name": "Python 3 (ipykernel)",
   "language": "python",
   "name": "python3"
  },
  "language_info": {
   "codemirror_mode": {
    "name": "ipython",
    "version": 3
   },
   "file_extension": ".py",
   "mimetype": "text/x-python",
   "name": "python",
   "nbconvert_exporter": "python",
   "pygments_lexer": "ipython3",
   "version": "3.8.12"
  },
  "toc": {
   "base_numbering": 1,
   "nav_menu": {},
   "number_sections": true,
   "sideBar": true,
   "skip_h1_title": false,
   "title_cell": "Table of Contents",
   "title_sidebar": "Contents",
   "toc_cell": false,
   "toc_position": {},
   "toc_section_display": true,
   "toc_window_display": false
  }
 },
 "nbformat": 4,
 "nbformat_minor": 5
}
