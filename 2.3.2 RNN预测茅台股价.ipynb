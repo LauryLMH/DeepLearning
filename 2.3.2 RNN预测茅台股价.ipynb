{
 "cells": [
  {
   "cell_type": "markdown",
   "metadata": {
    "slideshow": {
     "slide_type": "slide"
    },
    "tags": []
   },
   "source": [
    "# RNN预测茅台股价"
   ]
  },
  {
   "cell_type": "markdown",
   "metadata": {
    "slideshow": {
     "slide_type": "slide"
    }
   },
   "source": [
    " ## 导入包"
   ]
  },
  {
   "cell_type": "code",
   "execution_count": 1,
   "metadata": {
    "slideshow": {
     "slide_type": "slide"
    },
    "tags": []
   },
   "outputs": [],
   "source": [
    "# 请输入代码\n",
    "import pandas as pd\n",
    "import tushare as ts\n",
    "import numpy as np\n",
    "import tensorflow as tf\n",
    "import matplotlib.pyplot as plt\n",
    "from tensorflow.keras.layers import Dropout, Dense, SimpleRNN"
   ]
  },
  {
   "cell_type": "markdown",
   "metadata": {},
   "source": [
    "## 数据下载"
   ]
  },
  {
   "cell_type": "code",
   "execution_count": 2,
   "metadata": {},
   "outputs": [
    {
     "name": "stdout",
     "output_type": "stream",
     "text": [
      "本接口即将停止更新，请尽快使用Pro版接口：https://tushare.pro/document/2\n"
     ]
    },
    {
     "name": "stderr",
     "output_type": "stream",
     "text": [
      "D:\\Anaconda3\\lib\\site-packages\\tushare\\stock\\trading.py:708: FutureWarning: The frame.append method is deprecated and will be removed from pandas in a future version. Use pandas.concat instead.\n",
      "  data = data.append(_get_k_data(url, dataflag,\n",
      "D:\\Anaconda3\\lib\\site-packages\\tushare\\stock\\trading.py:708: FutureWarning: The frame.append method is deprecated and will be removed from pandas in a future version. Use pandas.concat instead.\n",
      "  data = data.append(_get_k_data(url, dataflag,\n",
      "D:\\Anaconda3\\lib\\site-packages\\tushare\\stock\\trading.py:708: FutureWarning: The frame.append method is deprecated and will be removed from pandas in a future version. Use pandas.concat instead.\n",
      "  data = data.append(_get_k_data(url, dataflag,\n",
      "D:\\Anaconda3\\lib\\site-packages\\tushare\\stock\\trading.py:708: FutureWarning: The frame.append method is deprecated and will be removed from pandas in a future version. Use pandas.concat instead.\n",
      "  data = data.append(_get_k_data(url, dataflag,\n",
      "D:\\Anaconda3\\lib\\site-packages\\tushare\\stock\\trading.py:708: FutureWarning: The frame.append method is deprecated and will be removed from pandas in a future version. Use pandas.concat instead.\n",
      "  data = data.append(_get_k_data(url, dataflag,\n",
      "D:\\Anaconda3\\lib\\site-packages\\tushare\\stock\\trading.py:708: FutureWarning: The frame.append method is deprecated and will be removed from pandas in a future version. Use pandas.concat instead.\n",
      "  data = data.append(_get_k_data(url, dataflag,\n"
     ]
    }
   ],
   "source": [
    "# 获取600519过去十年的数据\n",
    "df = ts.get_k_data('600519', ktype='D', start='2012-12-10', end='2022-12-10')\n",
    "# 保存为csv文件\n",
    "filename = \"./SH600519.csv\"\n",
    "df.to_csv(filename)"
   ]
  },
  {
   "cell_type": "markdown",
   "metadata": {
    "slideshow": {
     "slide_type": "slide"
    }
   },
   "source": [
    " ## 读取数据集"
   ]
  },
  {
   "cell_type": "code",
   "execution_count": 3,
   "metadata": {
    "slideshow": {
     "slide_type": "slide"
    },
    "tags": []
   },
   "outputs": [
    {
     "data": {
      "text/html": [
       "<div>\n",
       "<style scoped>\n",
       "    .dataframe tbody tr th:only-of-type {\n",
       "        vertical-align: middle;\n",
       "    }\n",
       "\n",
       "    .dataframe tbody tr th {\n",
       "        vertical-align: top;\n",
       "    }\n",
       "\n",
       "    .dataframe thead th {\n",
       "        text-align: right;\n",
       "    }\n",
       "</style>\n",
       "<table border=\"1\" class=\"dataframe\">\n",
       "  <thead>\n",
       "    <tr style=\"text-align: right;\">\n",
       "      <th></th>\n",
       "      <th>Unnamed: 0</th>\n",
       "      <th>date</th>\n",
       "      <th>open</th>\n",
       "      <th>close</th>\n",
       "      <th>high</th>\n",
       "      <th>low</th>\n",
       "      <th>volume</th>\n",
       "      <th>code</th>\n",
       "    </tr>\n",
       "  </thead>\n",
       "  <tbody>\n",
       "    <tr>\n",
       "      <th>0</th>\n",
       "      <td>225</td>\n",
       "      <td>2012-12-11</td>\n",
       "      <td>54.665</td>\n",
       "      <td>57.814</td>\n",
       "      <td>62.516</td>\n",
       "      <td>54.665</td>\n",
       "      <td>92232.0</td>\n",
       "      <td>600519</td>\n",
       "    </tr>\n",
       "    <tr>\n",
       "      <th>1</th>\n",
       "      <td>226</td>\n",
       "      <td>2012-12-12</td>\n",
       "      <td>60.037</td>\n",
       "      <td>65.706</td>\n",
       "      <td>65.814</td>\n",
       "      <td>57.971</td>\n",
       "      <td>64325.0</td>\n",
       "      <td>600519</td>\n",
       "    </tr>\n",
       "    <tr>\n",
       "      <th>2</th>\n",
       "      <td>227</td>\n",
       "      <td>2012-12-13</td>\n",
       "      <td>64.078</td>\n",
       "      <td>60.615</td>\n",
       "      <td>68.285</td>\n",
       "      <td>60.119</td>\n",
       "      <td>61996.0</td>\n",
       "      <td>600519</td>\n",
       "    </tr>\n",
       "    <tr>\n",
       "      <th>3</th>\n",
       "      <td>228</td>\n",
       "      <td>2012-12-14</td>\n",
       "      <td>58.384</td>\n",
       "      <td>62.450</td>\n",
       "      <td>63.756</td>\n",
       "      <td>54.665</td>\n",
       "      <td>78926.0</td>\n",
       "      <td>600519</td>\n",
       "    </tr>\n",
       "    <tr>\n",
       "      <th>4</th>\n",
       "      <td>229</td>\n",
       "      <td>2012-12-17</td>\n",
       "      <td>60.863</td>\n",
       "      <td>65.070</td>\n",
       "      <td>67.194</td>\n",
       "      <td>57.557</td>\n",
       "      <td>71361.0</td>\n",
       "      <td>600519</td>\n",
       "    </tr>\n",
       "  </tbody>\n",
       "</table>\n",
       "</div>"
      ],
      "text/plain": [
       "   Unnamed: 0        date    open   close    high     low   volume    code\n",
       "0         225  2012-12-11  54.665  57.814  62.516  54.665  92232.0  600519\n",
       "1         226  2012-12-12  60.037  65.706  65.814  57.971  64325.0  600519\n",
       "2         227  2012-12-13  64.078  60.615  68.285  60.119  61996.0  600519\n",
       "3         228  2012-12-14  58.384  62.450  63.756  54.665  78926.0  600519\n",
       "4         229  2012-12-17  60.863  65.070  67.194  57.557  71361.0  600519"
      ]
     },
     "execution_count": 3,
     "metadata": {},
     "output_type": "execute_result"
    }
   ],
   "source": [
    "# 读取股票文件\n",
    "data = pd.read_csv(filename)\n",
    "data.head()"
   ]
  },
  {
   "cell_type": "code",
   "execution_count": 4,
   "metadata": {},
   "outputs": [],
   "source": [
    "import numpy as np\n",
    "open_data = np.array(data.iloc[:,2:3])"
   ]
  },
  {
   "cell_type": "code",
   "execution_count": 5,
   "metadata": {},
   "outputs": [],
   "source": [
    "dataset = tf.data.Dataset.from_tensor_slices(open_data)# .flatten()\n",
    "def normalize(data):\n",
    "    data = data/np.max(open_data)\n",
    "    return data\n",
    "dataset = dataset.map(normalize)"
   ]
  },
  {
   "cell_type": "code",
   "execution_count": 6,
   "metadata": {},
   "outputs": [],
   "source": [
    "# 将60天的数据放入一个batch\n",
    "seq_length = 60\n",
    "dataset = dataset.batch(seq_length+1, drop_remainder=True)\n",
    "# 将batch分为模型输入和模型输出\n",
    "def split_input_target(chunk):\n",
    "    # 前60天作为输入\n",
    "    input_text = chunk[:-1]\n",
    "    # 第61天作为输出\n",
    "    target_text = chunk[-1]\n",
    "    return input_text, target_text\n",
    "\n",
    "dataset = dataset.map(split_input_target)\n",
    "dataset = dataset.shuffle(10000)"
   ]
  },
  {
   "cell_type": "markdown",
   "metadata": {
    "slideshow": {
     "slide_type": "slide"
    }
   },
   "source": [
    " ## 搭建RNN模型结构\n"
   ]
  },
  {
   "cell_type": "code",
   "execution_count": 7,
   "metadata": {
    "slideshow": {
     "slide_type": "slide"
    },
    "tags": []
   },
   "outputs": [
    {
     "name": "stdout",
     "output_type": "stream",
     "text": [
      "Model: \"sequential\"\n",
      "_________________________________________________________________\n",
      " Layer (type)                Output Shape              Param #   \n",
      "=================================================================\n",
      " simple_rnn (SimpleRNN)      (256, 60, 1000)           1002000   \n",
      "                                                                 \n",
      " dropout (Dropout)           (256, 60, 1000)           0         \n",
      "                                                                 \n",
      " simple_rnn_1 (SimpleRNN)    (256, 1000)               2001000   \n",
      "                                                                 \n",
      " dropout_1 (Dropout)         (256, 1000)               0         \n",
      "                                                                 \n",
      " dense (Dense)               (256, 1)                  1001      \n",
      "                                                                 \n",
      "=================================================================\n",
      "Total params: 3,004,001\n",
      "Trainable params: 3,004,001\n",
      "Non-trainable params: 0\n",
      "_________________________________________________________________\n"
     ]
    }
   ],
   "source": [
    "#请输入代码\n",
    "model = tf.keras.Sequential([\n",
    "    SimpleRNN(1000, return_sequences=True),\n",
    "    Dropout(0.2),\n",
    "    SimpleRNN(1000),\n",
    "    Dropout(0.2),\n",
    "    Dense(1)])\n",
    "model.build(input_shape=(256,60,1))\n",
    "model.summary()"
   ]
  },
  {
   "cell_type": "code",
   "execution_count": 8,
   "metadata": {},
   "outputs": [],
   "source": [
    "model.compile(optimizer=tf.keras.optimizers.Adam(0.0001),\n",
    "              loss='mean_squared_error')  # 损失函数用均方误差"
   ]
  },
  {
   "cell_type": "markdown",
   "metadata": {
    "slideshow": {
     "slide_type": "slide"
    }
   },
   "source": [
    " ## 模型训练\n"
   ]
  },
  {
   "cell_type": "code",
   "execution_count": 9,
   "metadata": {
    "slideshow": {
     "slide_type": "slide"
    },
    "tags": []
   },
   "outputs": [
    {
     "name": "stdout",
     "output_type": "stream",
     "text": [
      "Epoch 1/5\n",
      "WARNING:tensorflow:Model was constructed with shape (256, 60, 1) for input KerasTensor(type_spec=TensorSpec(shape=(256, 60, 1), dtype=tf.float32, name='simple_rnn_input'), name='simple_rnn_input', description=\"created by layer 'simple_rnn_input'\"), but it was called on an input with incompatible shape (60, 1, 1).\n",
      "WARNING:tensorflow:Model was constructed with shape (256, 60, 1) for input KerasTensor(type_spec=TensorSpec(shape=(256, 60, 1), dtype=tf.float32, name='simple_rnn_input'), name='simple_rnn_input', description=\"created by layer 'simple_rnn_input'\"), but it was called on an input with incompatible shape (60, 1, 1).\n",
      "39/39 [==============================] - 3s 29ms/step - loss: 0.0265\n",
      "Epoch 2/5\n",
      "39/39 [==============================] - 1s 34ms/step - loss: 0.0042\n",
      "Epoch 3/5\n",
      "39/39 [==============================] - 1s 35ms/step - loss: 0.0023\n",
      "Epoch 4/5\n",
      "39/39 [==============================] - 1s 35ms/step - loss: 0.0022\n",
      "Epoch 5/5\n",
      "39/39 [==============================] - 2s 48ms/step - loss: 0.0026\n"
     ]
    }
   ],
   "source": [
    "history = model.fit(dataset, batch_size=256, epochs=5, validation_freq=1)"
   ]
  },
  {
   "cell_type": "markdown",
   "metadata": {
    "slideshow": {
     "slide_type": "slide"
    }
   },
   "source": [
    " ## 损失可视化"
   ]
  },
  {
   "cell_type": "code",
   "execution_count": 10,
   "metadata": {
    "slideshow": {
     "slide_type": "slide"
    },
    "tags": []
   },
   "outputs": [
    {
     "name": "stderr",
     "output_type": "stream",
     "text": [
      "No handles with labels found to put in legend.\n"
     ]
    },
    {
     "data": {
      "image/png": "[encoded data removed]",
      "text/plain": [
       "<Figure size 432x288 with 1 Axes>"
      ]
     },
     "metadata": {
      "needs_background": "light"
     },
     "output_type": "display_data"
    }
   ],
   "source": [
    "loss = history.history['loss']\n",
    "plt.plot(loss)\n",
    "plt.title('Training Loss')\n",
    "plt.legend()\n",
    "plt.show()"
   ]
  }
 ],
 "metadata": {
  "kernelspec": {
   "display_name": "Python 3 (ipykernel)",
   "language": "python",
   "name": "python3"
  },
  "language_info": {
   "codemirror_mode": {
    "name": "ipython",
    "version": 3
   },
   "file_extension": ".py",
   "mimetype": "text/x-python",
   "name": "python",
   "nbconvert_exporter": "python",
   "pygments_lexer": "ipython3",
   "version": "3.8.12"
  },
  "toc": {
   "base_numbering": 1,
   "nav_menu": {},
   "number_sections": true,
   "sideBar": true,
   "skip_h1_title": false,
   "title_cell": "Table of Contents",
   "title_sidebar": "Contents",
   "toc_cell": false,
   "toc_position": {},
   "toc_section_display": true,
   "toc_window_display": false
  },
  "toc-autonumbering": false,
  "toc-showcode": false,
  "toc-showmarkdowntxt": false
 },
 "nbformat": 4,
 "nbformat_minor": 4
}
