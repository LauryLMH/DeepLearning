{
 "cells": [
  {
   "cell_type": "code",
   "execution_count": null,
   "id": "f361db63",
   "metadata": {},
   "outputs": [],
   "source": [
    "import tensorflow as tf\n",
    "from tensorflow.keras import layers"
   ]
  },
  {
   "cell_type": "code",
   "execution_count": null,
   "id": "c2d44b3b",
   "metadata": {},
   "outputs": [],
   "source": [
    "# 读取数据集\n",
    "from tensorflow.keras.datasets import cifar10\n",
    "(img_train, label_train), (img_test, label_test) = cifar10.load_data()\n",
    "# 归一化数据集\n",
    "img_train = img_train / 255.0\n",
    "img_test = img_test / 255.0\n",
    "# 配置标签\n",
    "all_labels_name = ['飞机', '汽车', '鸟', '猫', '鹿', '狗', '蛙', \n",
    "                   '马', '船', '卡车']"
   ]
  },
  {
   "cell_type": "code",
   "execution_count": null,
   "id": "5bfaf306",
   "metadata": {},
   "outputs": [],
   "source": [
    "# 搭建模型\n",
    "LeNet5_model = tf.keras.Sequential([\n",
    "    layers.Conv2D(input_shape=((32, 32, 3)), filters=6,\n",
    "                  kernel_size=(5, 5), strides=(1, 1), activation='relu'),\n",
    "    layers.MaxPool2D(pool_size=(2, 2), strides=(2, 2), padding='same'),\n",
    "    layers.Conv2D(filters=16, kernel_size=(5, 5), strides=(1, 1),\n",
    "                  padding='valid', activation='relu'),\n",
    "    layers.MaxPool2D(pool_size=(2, 2), strides=(2, 2), padding='same'),\n",
    "    layers.Conv2D(filters=120, kernel_size=(5, 5), strides=(1, 1),\n",
    "                  padding='valid', activation='relu'),\n",
    "    layers.Flatten(),\n",
    "    layers.Dense(84, activation='relu'),\n",
    "    layers.Dense(10, activation='softmax')\n",
    "])"
   ]
  },
  {
   "cell_type": "code",
   "execution_count": null,
   "id": "76ebe987",
   "metadata": {},
   "outputs": [],
   "source": [
    "LeNet5_model.summary()"
   ]
  },
  {
   "cell_type": "code",
   "execution_count": null,
   "id": "9c94bf7f",
   "metadata": {},
   "outputs": [],
   "source": [
    "# 模型编译\n",
    "LeNet5_model.compile(optimizer='sgd',\n",
    "              loss=tf.keras.losses.SparseCategoricalCrossentropy(from_logits=False),\n",
    "              metrics=['sparse_categorical_accuracy'])"
   ]
  },
  {
   "cell_type": "code",
   "execution_count": null,
   "id": "f956fa91",
   "metadata": {},
   "outputs": [],
   "source": [
    "# 模型训练\n",
    "LeNet5_model.fit(img_train, label_train, batch_size=16, epochs=30,\n",
    "          validation_data=(img_test,label_test), validation_freq=1)\n",
    "LeNet5_model.save('model.h5')"
   ]
  },
  {
   "cell_type": "code",
   "execution_count": null,
   "id": "f6288fe8",
   "metadata": {},
   "outputs": [],
   "source": [
    "# 模型预测\n",
    "import numpy as np\n",
    "predict_index = 0\n",
    "print(f'标签：{all_labels_name[label_test[predict_index][0]]}')\n",
    "result = LeNet5_model.predict(img_test[predict_index].reshape((1,32,32,3)))\n",
    "result_index = np.argmax(result)\n",
    "print(f'预测：{all_labels_name[result_index]}')"
   ]
  }
 ],
 "metadata": {
  "kernelspec": {
   "display_name": "Python 3 (ipykernel)",
   "language": "python",
   "name": "python3"
  },
  "language_info": {
   "codemirror_mode": {
    "name": "ipython",
    "version": 3
   },
   "file_extension": ".py",
   "mimetype": "text/x-python",
   "name": "python",
   "nbconvert_exporter": "python",
   "pygments_lexer": "ipython3",
   "version": "3.8.12"
  },
  "toc": {
   "base_numbering": 1,
   "nav_menu": {},
   "number_sections": true,
   "sideBar": true,
   "skip_h1_title": false,
   "title_cell": "Table of Contents",
   "title_sidebar": "Contents",
   "toc_cell": false,
   "toc_position": {},
   "toc_section_display": true,
   "toc_window_display": false
  }
 },
 "nbformat": 4,
 "nbformat_minor": 5
}
