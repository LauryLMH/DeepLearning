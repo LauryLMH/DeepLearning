{
 "cells": [
  {
   "cell_type": "markdown",
   "id": "9b07a2d0",
   "metadata": {},
   "source": [
    "# 读取数据"
   ]
  },
  {
   "cell_type": "code",
   "execution_count": 1,
   "id": "eb536fe2",
   "metadata": {},
   "outputs": [],
   "source": [
    "import tensorflow as tf\n",
    "import numpy as np\n",
    "import os\n",
    "import time"
   ]
  },
  {
   "cell_type": "code",
   "execution_count": 2,
   "id": "ec0edf96",
   "metadata": {},
   "outputs": [],
   "source": [
    "# 打开文件\n",
    "file = open('./唐诗.txt', 'rb').read().decode(encoding='utf-8')\n",
    "text = ''\n",
    "# 逐行遍历\n",
    "for line in file.split('\\n'):\n",
    "    try:\n",
    "        # 跳过标题行\n",
    "        int(line[0])\n",
    "    except:\n",
    "        # 添加非标题行\n",
    "        text+=line\n",
    "# 删除所有回车字符\n",
    "text = text.replace('\\r','')"
   ]
  },
  {
   "cell_type": "code",
   "execution_count": 3,
   "id": "eacf7fc5",
   "metadata": {},
   "outputs": [
    {
     "data": {
      "text/plain": [
       "'孤鸿海上来，池潢不敢顾。侧见双翠鸟，巢在三珠树。矫矫珍木巅，得无金丸惧。美服患人指，高明逼神恶。今我游冥冥，弋者何所慕。兰叶春葳蕤，桂华秋皎洁。欣欣此生意，自尔为佳节。谁知林栖者，闻风坐相悦。草木有本'"
      ]
     },
     "execution_count": 3,
     "metadata": {},
     "output_type": "execute_result"
    }
   ],
   "source": [
    "text[:100]"
   ]
  },
  {
   "cell_type": "code",
   "execution_count": 4,
   "id": "65518fd1",
   "metadata": {},
   "outputs": [
    {
     "name": "stdout",
     "output_type": "stream",
     "text": [
      "2515唯一字符\n"
     ]
    }
   ],
   "source": [
    "vocab = sorted(set(text))\n",
    "print ('{}唯一字符'.format(len(vocab)))"
   ]
  },
  {
   "cell_type": "markdown",
   "id": "8d77c116",
   "metadata": {},
   "source": [
    "获取数据映射"
   ]
  },
  {
   "cell_type": "code",
   "execution_count": 5,
   "id": "678ae848",
   "metadata": {},
   "outputs": [],
   "source": [
    "char2idx = {u:i for i, u in enumerate(vocab)}\n",
    "idx2char = {i:u for i, u in enumerate(vocab)}\n",
    "data = np.array([char2idx[c] for c in text])\n",
    "dataset = tf.data.Dataset.from_tensor_slices(data)"
   ]
  },
  {
   "cell_type": "code",
   "execution_count": 8,
   "id": "288e3920",
   "metadata": {},
   "outputs": [
    {
     "name": "stdout",
     "output_type": "stream",
     "text": [
      "孤鸿海上来，池潢不敢顾。侧见双"
     ]
    }
   ],
   "source": [
    "for i in dataset.take(15):\n",
    "    print(idx2char[i.numpy()], end='')"
   ]
  },
  {
   "cell_type": "code",
   "execution_count": 9,
   "id": "78a717a1",
   "metadata": {},
   "outputs": [],
   "source": [
    "# 分割句子\n",
    "seq_length = 24\n",
    "dataset = dataset.batch(seq_length+1, drop_remainder=True)\n",
    "# 将batch分为模型输入和模型输出\n",
    "def split_input_target(chunk):\n",
    "    input_text = chunk[:-1]\n",
    "    target_text = chunk[1:]\n",
    "    return input_text, target_text\n",
    "dataset = dataset.map(split_input_target)\n",
    "# 分割数据集，训练批次\n",
    "dataset = dataset.shuffle(10000).batch(256, drop_remainder=True)"
   ]
  },
  {
   "cell_type": "code",
   "execution_count": 12,
   "id": "f5c38ec7",
   "metadata": {},
   "outputs": [],
   "source": [
    "model = tf.keras.Sequential([\n",
    "    tf.keras.layers.Embedding(len(vocab), 1024,\n",
    "                              batch_input_shape=[256, None]),\n",
    "    tf.keras.layers.LSTM(1024,\n",
    "                        return_sequences=True,\n",
    "                        stateful=True,\n",
    "                        recurrent_initializer='glorot_uniform'),\n",
    "    tf.keras.layers.Dense(len(vocab))\n",
    "  ])"
   ]
  },
  {
   "cell_type": "code",
   "execution_count": 13,
   "id": "2b302efd",
   "metadata": {},
   "outputs": [
    {
     "name": "stderr",
     "output_type": "stream",
     "text": [
      "D:\\Anaconda3\\lib\\site-packages\\keras\\optimizers\\optimizer_v2\\adam.py:114: UserWarning: The `lr` argument is deprecated, use `learning_rate` instead.\n",
      "  super().__init__(name, **kwargs)\n"
     ]
    }
   ],
   "source": [
    "model.compile(optimizer= tf.keras.optimizers.Adam(lr=0.001), loss='sparse_categorical_crossentropy', metrics=['acc'])"
   ]
  },
  {
   "cell_type": "code",
   "execution_count": 14,
   "id": "57e3c174",
   "metadata": {},
   "outputs": [
    {
     "name": "stdout",
     "output_type": "stream",
     "text": [
      "Epoch 1/5\n",
      "3/3 [==============================] - 10s 3s/step - loss: 11.4505 - acc: 0.0137\n",
      "Epoch 2/5\n",
      "3/3 [==============================] - 9s 3s/step - loss: 9.2984 - acc: 0.0184\n",
      "Epoch 3/5\n",
      "3/3 [==============================] - 8s 3s/step - loss: 8.9953 - acc: 0.0084\n",
      "Epoch 4/5\n",
      "3/3 [==============================] - 9s 3s/step - loss: 8.8138 - acc: 0.0056\n",
      "Epoch 5/5\n",
      "3/3 [==============================] - 9s 3s/step - loss: 8.6457 - acc: 0.0195\n"
     ]
    }
   ],
   "source": [
    "history = model.fit(dataset, epochs=5)\n"
   ]
  },
  {
   "cell_type": "code",
   "execution_count": 18,
   "id": "40a6b5e3",
   "metadata": {
    "scrolled": true
   },
   "outputs": [
    {
     "name": "stdout",
     "output_type": "stream",
     "text": [
      "\n",
      "模型输入：\n",
      "未更衣。银筝夜久殷勤弄，心怯空房不忍归！奉帚平明\n",
      "\n",
      "模型预测：\n",
      "博"
     ]
    }
   ],
   "source": [
    "for input_example_batch, target_example_batch in dataset.take(1):\n",
    "    example_batch_predictions = model(input_example_batch)\n",
    "    sampled_indices = tf.random.categorical(example_batch_predictions[0], num_samples=1)\n",
    "    sampled_indices = tf.squeeze(sampled_indices,axis=-1).numpy()\n",
    "    print('\\n模型输入：')\n",
    "    for i in input_example_batch.numpy()[0]:\n",
    "        print(idx2char[i], end='')\n",
    "    print(f'\\n\\n模型预测：\\n{idx2char[sampled_indices[0]]}',end='')"
   ]
  }
 ],
 "metadata": {
  "kernelspec": {
   "display_name": "Python 3 (ipykernel)",
   "language": "python",
   "name": "python3"
  },
  "language_info": {
   "codemirror_mode": {
    "name": "ipython",
    "version": 3
   },
   "file_extension": ".py",
   "mimetype": "text/x-python",
   "name": "python",
   "nbconvert_exporter": "python",
   "pygments_lexer": "ipython3",
   "version": "3.8.12"
  },
  "toc": {
   "base_numbering": 1,
   "nav_menu": {},
   "number_sections": true,
   "sideBar": true,
   "skip_h1_title": false,
   "title_cell": "Table of Contents",
   "title_sidebar": "Contents",
   "toc_cell": false,
   "toc_position": {},
   "toc_section_display": true,
   "toc_window_display": false
  }
 },
 "nbformat": 4,
 "nbformat_minor": 5
}
