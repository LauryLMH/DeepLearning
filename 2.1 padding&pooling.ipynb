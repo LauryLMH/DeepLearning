{
 "cells": [
  {
   "cell_type": "code",
   "execution_count": 1,
   "id": "11d2b2fb",
   "metadata": {},
   "outputs": [],
   "source": [
    "import tensorflow as tf\n",
    "import numpy as np"
   ]
  },
  {
   "cell_type": "markdown",
   "id": "e3346329",
   "metadata": {},
   "source": [
    "# padding"
   ]
  },
  {
   "cell_type": "code",
   "execution_count": 2,
   "id": "91e712e1",
   "metadata": {},
   "outputs": [
    {
     "name": "stdout",
     "output_type": "stream",
     "text": [
      "初始数组：\n",
      "[[ 0  1  2  3  4]\n",
      " [ 5  6  7  8  9]\n",
      " [10 11 12 13 14]\n",
      " [15 16 17 18 19]\n",
      " [20 21 22 23 24]]\n"
     ]
    }
   ],
   "source": [
    "# 初始化 5*5 数组\n",
    "arr = np.array(np.arange(0,25))\n",
    "arr = arr.reshape((5,5))\n",
    "print(f\"初始数组：\\n{arr}\")"
   ]
  },
  {
   "cell_type": "code",
   "execution_count": 3,
   "id": "d0270d5c",
   "metadata": {},
   "outputs": [
    {
     "name": "stdout",
     "output_type": "stream",
     "text": [
      "\n",
      "全零填充：\n",
      "[[ 0  0  0  0  0  0  0]\n",
      " [ 0  0  1  2  3  4  0]\n",
      " [ 0  5  6  7  8  9  0]\n",
      " [ 0 10 11 12 13 14  0]\n",
      " [ 0 15 16 17 18 19  0]\n",
      " [ 0 20 21 22 23 24  0]\n",
      " [ 0  0  0  0  0  0  0]]\n",
      "\n",
      "反射填充：\n",
      "[[ 6  5  6  7  8  9  8]\n",
      " [ 1  0  1  2  3  4  3]\n",
      " [ 6  5  6  7  8  9  8]\n",
      " [11 10 11 12 13 14 13]\n",
      " [16 15 16 17 18 19 18]\n",
      " [21 20 21 22 23 24 23]\n",
      " [16 15 16 17 18 19 18]]\n",
      "\n",
      "复制填充：\n",
      "[[ 0  0  1  2  3  4  4]\n",
      " [ 0  0  1  2  3  4  4]\n",
      " [ 5  5  6  7  8  9  9]\n",
      " [10 10 11 12 13 14 14]\n",
      " [15 15 16 17 18 19 19]\n",
      " [20 20 21 22 23 24 24]\n",
      " [20 20 21 22 23 24 24]]\n"
     ]
    }
   ],
   "source": [
    "# zero-padding\n",
    "zero_padding = tf.pad(arr,[[1,1],[1,1]])\n",
    "print(f\"\\n全零填充：\\n{zero_padding}\")\n",
    "\n",
    "# reflect-padding\n",
    "reflect_padding = tf.pad(arr,[[1,1],[1,1]],\"REFLECT\")\n",
    "print(f\"\\n反射填充：\\n{reflect_padding}\")\n",
    "\n",
    "# replicate-padding\n",
    "replicate_padding = tf.pad(arr,[[1,1],[1,1]],\"SYMMETRIC\")\n",
    "print(f\"\\n复制填充：\\n{replicate_padding}\")"
   ]
  },
  {
   "cell_type": "markdown",
   "id": "d42e3aa0",
   "metadata": {},
   "source": [
    "# pooling"
   ]
  },
  {
   "cell_type": "code",
   "execution_count": 4,
   "id": "04f7fe3f",
   "metadata": {},
   "outputs": [
    {
     "name": "stdout",
     "output_type": "stream",
     "text": [
      "初始数组：\n",
      "[[ 0  1  2  3  4]\n",
      " [ 5  6  7  8  9]\n",
      " [10 11 12 13 14]\n",
      " [15 16 17 18 19]\n",
      " [20 21 22 23 24]]\n"
     ]
    }
   ],
   "source": [
    "arr = np.array(np.arange(0,25))\n",
    "arr = arr.reshape((5,5))\n",
    "x = tf.constant(arr)\n",
    "print(f\"初始数组：\\n{x}\")"
   ]
  },
  {
   "cell_type": "code",
   "execution_count": 5,
   "id": "645d0ce2",
   "metadata": {},
   "outputs": [],
   "source": [
    "x = tf.reshape(x, [1, 5, 5, 1])"
   ]
  },
  {
   "cell_type": "code",
   "execution_count": 6,
   "id": "32d051e1",
   "metadata": {},
   "outputs": [
    {
     "name": "stdout",
     "output_type": "stream",
     "text": [
      "\n",
      "最大池化：\n",
      "[[ 6  7  8  9]\n",
      " [11 12 13 14]\n",
      " [16 17 18 19]\n",
      " [21 22 23 24]]\n",
      "\n",
      "平均池化：\n",
      "[[ 6  7  8  9]\n",
      " [11 12 13 14]\n",
      " [16 17 18 19]\n",
      " [21 22 23 24]]\n"
     ]
    }
   ],
   "source": [
    "# 最大池化\n",
    "max_pool_2d = tf.keras.layers.MaxPooling2D(pool_size=(2, 2),\n",
    "                                           strides=(1, 1), \n",
    "                                           padding='valid')\n",
    "max_pooling = max_pool_2d(x).numpy().reshape(4,4)\n",
    "print(f\"\\n最大池化：\\n{max_pooling}\")\n",
    "\n",
    "# 平均池化\n",
    "ave_pool_2d = tf.keras.layers.AveragePooling2D(pool_size=(2, 2),\n",
    "                                           strides=(1, 1), \n",
    "                                           padding='valid')\n",
    "ave_pool_2d = max_pool_2d(x).numpy().reshape(4,4)\n",
    "print(f\"\\n平均池化：\\n{ave_pool_2d}\")"
   ]
  }
 ],
 "metadata": {
  "kernelspec": {
   "display_name": "Python 3 (ipykernel)",
   "language": "python",
   "name": "python3"
  },
  "language_info": {
   "codemirror_mode": {
    "name": "ipython",
    "version": 3
   },
   "file_extension": ".py",
   "mimetype": "text/x-python",
   "name": "python",
   "nbconvert_exporter": "python",
   "pygments_lexer": "ipython3",
   "version": "3.8.12"
  },
  "toc": {
   "base_numbering": 1,
   "nav_menu": {},
   "number_sections": true,
   "sideBar": true,
   "skip_h1_title": false,
   "title_cell": "Table of Contents",
   "title_sidebar": "Contents",
   "toc_cell": false,
   "toc_position": {},
   "toc_section_display": true,
   "toc_window_display": false
  }
 },
 "nbformat": 4,
 "nbformat_minor": 5
}
